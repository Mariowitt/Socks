{
 "cells": [
  {
   "cell_type": "markdown",
   "id": "7f9376f8-194d-472f-8e94-bf160bdf9703",
   "metadata": {},
   "source": [
    "## Aktien Investitionsschema\n"
   ]
  },
  {
   "cell_type": "code",
   "execution_count": 22,
   "id": "cd578426-471b-43c3-ab4d-29ed728acf9c",
   "metadata": {},
   "outputs": [
    {
     "data": {
      "application/vnd.jupyter.widget-view+json": {
       "model_id": "714ad00021b94866951d9090fce74aa3",
       "version_major": 2,
       "version_minor": 0
      },
      "text/plain": [
       "interactive(children=(IntText(value=15000, description='Startkapital:'), IntText(value=8, description='Zinsfus…"
      ]
     },
     "metadata": {},
     "output_type": "display_data"
    },
    {
     "data": {
      "text/plain": [
       "<function __main__.plot_func(startkapital_slider, zinsfuss_slider, monatlichesparrate_slider, jahre)>"
      ]
     },
     "execution_count": 22,
     "metadata": {},
     "output_type": "execute_result"
    }
   ],
   "source": [
    "import numpy as np \n",
    "import matplotlib.pyplot as plot \n",
    "import ipywidgets as widgets\n",
    "from ipywidgets import interact, interactive, fixed, interact_manual\n",
    "\n",
    "\n",
    "\n",
    "\n",
    "figure = None\n",
    "figure = plot.figure(num=None, figsize=(25, 10), dpi=80)\n",
    "\n",
    "\n",
    "def plot_func(startkapital_slider,zinsfuss_slider,monatlichesparrate_slider,jahre): \n",
    "    \n",
    "    global figure\n",
    "    if figure is not None: plot.close(figure)\n",
    "        \n",
    "    startkapital = startkapital_slider\n",
    "    zinsfuss = zinsfuss_slider\n",
    "    monatlicheSparrate = monatlichesparrate_slider\n",
    "    startjahr = jahre[0]\n",
    "    endjahr = jahre[1]\n",
    "    \n",
    "\n",
    "   \n",
    "    years = np.arange(startjahr,endjahr,1)\n",
    "    money_sparrate = np.ones(years.shape[0])\n",
    "    money_sparrate[0] = startkapital \n",
    "\n",
    "    money_startkapital = np.ones(years.shape[0])\n",
    "    money_startkapital[0] = startkapital \n",
    "\n",
    "    for i in range(1,years.shape[0]):\n",
    "\n",
    "        money_sparrate[i] = (money_sparrate[i-1] + monatlicheSparrate*12) * (1 + zinsfuss/100)\n",
    "        money_startkapital[i] = (startkapital) * (1 + zinsfuss/100)**(years[i]-years[0])\n",
    "\n",
    "\n",
    "    figure = plot.figure(figsize=(25, 10), dpi=80)\n",
    "    plot.bar(years,money_sparrate,align='center')\n",
    "    plot.bar(years,money_startkapital, color='red', align='center',alpha=0.5)\n",
    "    plot.hlines(y=1000000, xmin=years[0], xmax=years[years.shape[0]-1], linewidth=2, color = 'grey', linestyle='--', alpha=0.5,label='1Mio-€')\n",
    "    plot.text(years[0]+5,1010000,'1Mio-€')\n",
    "    for i in range(years.shape[0]):\n",
    "\n",
    "        if(years[i]%10==0):\n",
    "            plot.text(years[i],money_sparrate[i]+money_sparrate[money_sparrate.shape[0]-1]*0.02,\"€{:,.2f}\".format(int(money_sparrate[i])),rotation=90)\n",
    "\n",
    "    plot.xlabel('Jahr')\n",
    "    plot.ylabel('Geld')\n",
    "    print(\"Geld im Jahr 2100 approx.: \", \"€{:,.2f}\".format(int(money_sparrate[money_sparrate.shape[0]-1])))\n",
    "    plot.show()\n",
    " \n",
    "\n",
    "interact(plot_func, startkapital_slider = widgets.IntText(value=15000,description='Startkapital:'),\n",
    "         zinsfuss_slider = widgets.IntText(value=8,description='Zinsfuss:'),\n",
    "         monatlichesparrate_slider=widgets.IntText(value=100,description='p.M Sparrate.:'),\n",
    "         jahre=widgets.IntRangeSlider(value=[2022, 2100],min=2000,max=2200,step=1, description='Start/EndJahr:',continuous_update=True,orientation='horizontal',readout=True,readout_format='d',)\n",
    "        )\n",
    "\n"
   ]
  },
  {
   "cell_type": "code",
   "execution_count": null,
   "id": "0828501e-3db4-416e-98ac-563226a3d86b",
   "metadata": {},
   "outputs": [],
   "source": []
  }
 ],
 "metadata": {
  "kernelspec": {
   "display_name": "Python 3 (ipykernel)",
   "language": "python",
   "name": "python3"
  },
  "language_info": {
   "codemirror_mode": {
    "name": "ipython",
    "version": 3
   },
   "file_extension": ".py",
   "mimetype": "text/x-python",
   "name": "python",
   "nbconvert_exporter": "python",
   "pygments_lexer": "ipython3",
   "version": "3.8.10"
  }
 },
 "nbformat": 4,
 "nbformat_minor": 5
}
